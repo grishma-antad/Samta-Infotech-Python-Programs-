{
 "cells": [
  {
   "cell_type": "code",
   "execution_count": 1,
   "id": "c8f5858e",
   "metadata": {},
   "outputs": [],
   "source": [
    "import mysql.connector"
   ]
  },
  {
   "cell_type": "code",
   "execution_count": 2,
   "id": "d9afd2e8",
   "metadata": {},
   "outputs": [
    {
     "name": "stdout",
     "output_type": "stream",
     "text": [
      "All Student Records:\n",
      "(1, 'Alice', 'Smith', 18, 95.5)\n",
      "(2, 'John', 'Jacon', 20, 93.0)\n",
      "(3, 'Tessa', 'Young', 22, 91.7)\n"
     ]
    }
   ],
   "source": [
    "# Connect to MySQL\n",
    "connection = mysql.connector.connect(\n",
    "    host=\"Grishma\",\n",
    "    user=\"root\",\n",
    "    password=\"Boocha3002\",\n",
    "    database=\"records\"\n",
    ")\n",
    "\n",
    "# Create a cursor\n",
    "cursor = connection.cursor()\n",
    "\n",
    "# Creating a database and a table\n",
    "create_table_query = \"\"\"\n",
    "CREATE TABLE IF NOT EXISTS students (\n",
    "    student_id INT AUTO_INCREMENT PRIMARY KEY,\n",
    "    first_name VARCHAR(255),\n",
    "    last_name VARCHAR(255),\n",
    "    age INT,\n",
    "    grade FLOAT\n",
    ");\n",
    "\"\"\"\n",
    "cursor.execute(create_table_query)\n",
    "clear_table_query = \"TRUNCATE TABLE students;\"\n",
    "cursor.execute(clear_table_query)\n",
    "\n",
    "# Insert multiple student records\n",
    "insert_students_query = \"\"\"\n",
    "INSERT INTO students (first_name, last_name, age, grade) VALUES\n",
    "('Alice', 'Smith', 18, 95.5),\n",
    "('John', 'Jacon', 20, 93.0),\n",
    "('Tessa', 'Young', 22, 91.7);\n",
    "\"\"\"\n",
    "cursor.execute(insert_students_query)\n",
    "\n",
    "# Commit the changes\n",
    "connection.commit()\n",
    "\n",
    "# Fetch and print all student records from the table\n",
    "select_query = \"SELECT * FROM students;\"\n",
    "cursor.execute(select_query)\n",
    "all_students = cursor.fetchall()\n",
    "\n",
    "print(\"All Student Records:\")\n",
    "for student in all_students:\n",
    "    print(student)"
   ]
  },
  {
   "cell_type": "code",
   "execution_count": 3,
   "id": "11608f50",
   "metadata": {},
   "outputs": [
    {
     "name": "stdout",
     "output_type": "stream",
     "text": [
      "All Student Records:\n",
      "(1, 'Alice', 'Smith', 18, 97.0)\n",
      "(2, 'John', 'Jacon', 20, 93.0)\n",
      "(3, 'Tessa', 'Young', 22, 91.7)\n"
     ]
    }
   ],
   "source": [
    "# Update the grade of the student with the first name Alice to 97.0\n",
    "update_query = \"\"\"\n",
    "UPDATE students\n",
    "SET grade = %s\n",
    "WHERE first_name = %s;\n",
    "\"\"\"\n",
    "updated_grade_data = (97.0, \"Alice\")\n",
    "cursor.execute(update_query, updated_grade_data)\n",
    "connection.commit()\n",
    "\n",
    "# Fetch and print all student records from the table\n",
    "select_query = \"SELECT * FROM students;\"\n",
    "cursor.execute(select_query)\n",
    "all_students = cursor.fetchall()\n",
    "\n",
    "print(\"All Student Records:\")\n",
    "for student in all_students:\n",
    "    print(student)\n"
   ]
  },
  {
   "cell_type": "code",
   "execution_count": 4,
   "id": "dbabb76d",
   "metadata": {},
   "outputs": [
    {
     "name": "stdout",
     "output_type": "stream",
     "text": [
      "All Student Records (after deletion):\n",
      "(2, 'John', 'Jacon', 20, 93.0)\n",
      "(3, 'Tessa', 'Young', 22, 91.7)\n"
     ]
    }
   ],
   "source": [
    "# Delete the student with the last name \"Smith\"\n",
    "delete_query = \"\"\"\n",
    "DELETE FROM students\n",
    "WHERE last_name = %s;\n",
    "\"\"\"\n",
    "deleted_student_data = (\"Smith\",)\n",
    "cursor.execute(delete_query, deleted_student_data)\n",
    "connection.commit()\n",
    "\n",
    "# Fetch and print all student records from the table after deletion\n",
    "cursor.execute(select_query)\n",
    "all_students_after_deletion = cursor.fetchall()\n",
    "\n",
    "print(\"All Student Records (after deletion):\")\n",
    "for student in all_students_after_deletion:\n",
    "    print(student)"
   ]
  },
  {
   "cell_type": "code",
   "execution_count": 5,
   "id": "74492fc9",
   "metadata": {},
   "outputs": [
    {
     "name": "stdout",
     "output_type": "stream",
     "text": [
      "All Student Records:\n",
      "(2, 'John', 'Jacon', 20, 93.0)\n",
      "(3, 'Tessa', 'Young', 22, 91.7)\n"
     ]
    }
   ],
   "source": [
    "#Fetch and display all the students record\n",
    "select_query = \"SELECT * FROM students;\"\n",
    "cursor.execute(select_query)\n",
    "all_students = cursor.fetchall()\n",
    "\n",
    "print(\"All Student Records:\")\n",
    "for student in all_students:\n",
    "    print(student)\n",
    "    \n",
    "#Close the cursor and connection\n",
    "cursor.close()\n",
    "connection.close()"
   ]
  }
 ],
 "metadata": {
  "kernelspec": {
   "display_name": "Python 3 (ipykernel)",
   "language": "python",
   "name": "python3"
  },
  "language_info": {
   "codemirror_mode": {
    "name": "ipython",
    "version": 3
   },
   "file_extension": ".py",
   "mimetype": "text/x-python",
   "name": "python",
   "nbconvert_exporter": "python",
   "pygments_lexer": "ipython3",
   "version": "3.11.5"
  }
 },
 "nbformat": 4,
 "nbformat_minor": 5
}
