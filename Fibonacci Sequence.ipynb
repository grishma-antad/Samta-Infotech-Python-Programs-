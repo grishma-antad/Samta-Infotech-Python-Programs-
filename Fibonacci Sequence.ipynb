{
 "cells": [
  {
   "cell_type": "code",
   "execution_count": 8,
   "id": "ded152c3",
   "metadata": {},
   "outputs": [
    {
     "name": "stdout",
     "output_type": "stream",
     "text": [
      "Enter the number of terms for the Fibonacci sequence:10\n",
      "Fiboncci sequence up to 10terms:[0, 1, 1, 2, 3, 5, 8, 13, 21, 34]\n"
     ]
    }
   ],
   "source": [
    "def generate_fibonacci(n):\n",
    "    fibonacci_sequence = [0,1]\n",
    "    \n",
    "    for _ in range(2,n):\n",
    "        next_term = fibonacci_sequence[-1]+fibonacci_sequence[-2]\n",
    "        fibonacci_sequence.append(next_term)\n",
    "        \n",
    "    return fibonacci_sequence\n",
    "\n",
    "def main():\n",
    "    try:\n",
    "        n = int(input(\"Enter the number of terms for the Fibonacci sequence:\"))\n",
    "        \n",
    "        if n<=0:\n",
    "            print(\"Please enter a positive integer for the number of terms\")\n",
    "        else:\n",
    "            fibonacci_sequence = generate_fibonacci(n)\n",
    "            print(f\"Fiboncci sequence up to {n}terms:{fibonacci_sequence}\")\n",
    "            \n",
    "    except ValueError:\n",
    "        print(\"The number entered in invalid. Please enter a valid number.\")\n",
    "        \n",
    "if __name__ ==\"__main__\":\n",
    "    main()"
   ]
  },
  {
   "cell_type": "code",
   "execution_count": null,
   "id": "09e52ce9",
   "metadata": {},
   "outputs": [],
   "source": []
  }
 ],
 "metadata": {
  "kernelspec": {
   "display_name": "Python 3 (ipykernel)",
   "language": "python",
   "name": "python3"
  },
  "language_info": {
   "codemirror_mode": {
    "name": "ipython",
    "version": 3
   },
   "file_extension": ".py",
   "mimetype": "text/x-python",
   "name": "python",
   "nbconvert_exporter": "python",
   "pygments_lexer": "ipython3",
   "version": "3.11.5"
  }
 },
 "nbformat": 4,
 "nbformat_minor": 5
}
