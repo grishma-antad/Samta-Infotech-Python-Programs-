{
 "cells": [
  {
   "cell_type": "code",
   "execution_count": 1,
   "id": "e21bd19d",
   "metadata": {},
   "outputs": [
    {
     "name": "stdout",
     "output_type": "stream",
     "text": [
      "Enter the length of the rectangle:8\n",
      "Enter the width of the rectangle:5\n",
      "The area of the rectangle is:40.0\n"
     ]
    }
   ],
   "source": [
    "def calculate_area(length,width):\n",
    "    if length == width:\n",
    "        return \"This is a square!\"\n",
    "    else:\n",
    "        return length * width\n",
    "    \n",
    "def main():\n",
    "    try:\n",
    "        length = float(input(\"Enter the length of the rectangle:\"))\n",
    "        width = float(input(\"Enter the width of the rectangle:\"))\n",
    "        \n",
    "        result = calculate_area(length, width)\n",
    "        \n",
    "        if isinstance(result, str): #Check if the result is a string (message for square)\n",
    "            print(result)\n",
    "        else:\n",
    "            print(f\"The area of the rectangle is:{result}\")\n",
    "            \n",
    "    except ValueError:\n",
    "        print(\"The input is invalid, please enter a valid numeric values for length and width.\")\n",
    "        \n",
    "if __name__ ==\"__main__\":\n",
    "    main()"
   ]
  },
  {
   "cell_type": "code",
   "execution_count": null,
   "id": "91cf78b8",
   "metadata": {},
   "outputs": [],
   "source": []
  }
 ],
 "metadata": {
  "kernelspec": {
   "display_name": "Python 3 (ipykernel)",
   "language": "python",
   "name": "python3"
  },
  "language_info": {
   "codemirror_mode": {
    "name": "ipython",
    "version": 3
   },
   "file_extension": ".py",
   "mimetype": "text/x-python",
   "name": "python",
   "nbconvert_exporter": "python",
   "pygments_lexer": "ipython3",
   "version": "3.11.5"
  }
 },
 "nbformat": 4,
 "nbformat_minor": 5
}
